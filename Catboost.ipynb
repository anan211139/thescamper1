{
  "nbformat": 4,
  "nbformat_minor": 0,
  "metadata": {
    "colab": {
      "name": "Catboost.ipynb",
      "provenance": [],
      "collapsed_sections": []
    },
    "kernelspec": {
      "name": "python3",
      "display_name": "Python 3"
    },
    "language_info": {
      "name": "python"
    },
    "accelerator": "GPU",
    "gpuClass": "standard"
  },
  "cells": [
    {
      "cell_type": "code",
      "execution_count": null,
      "metadata": {
        "id": "nu7B_W88yLNc"
      },
      "outputs": [],
      "source": [
        "!pip install catboost"
      ]
    },
    {
      "cell_type": "code",
      "source": [
        "import matplotlib.pyplot as plt"
      ],
      "metadata": {
        "id": "TjZwyAB6WV8x"
      },
      "execution_count": 2,
      "outputs": []
    },
    {
      "cell_type": "code",
      "source": [
        "from google.colab import drive\n",
        "drive.mount('/content/drive')"
      ],
      "metadata": {
        "colab": {
          "base_uri": "https://localhost:8080/"
        },
        "id": "V6wPZRa5ya1s",
        "outputId": "7733967a-6f62-4684-81fa-cc5d822eeb4e"
      },
      "execution_count": 3,
      "outputs": [
        {
          "output_type": "stream",
          "name": "stdout",
          "text": [
            "Drive already mounted at /content/drive; to attempt to forcibly remount, call drive.mount(\"/content/drive\", force_remount=True).\n"
          ]
        }
      ]
    },
    {
      "cell_type": "code",
      "source": [
        "import numpy as np"
      ],
      "metadata": {
        "id": "_zlPEKphzwgZ"
      },
      "execution_count": 4,
      "outputs": []
    },
    {
      "cell_type": "code",
      "source": [
        "train_data = np.load('/content/drive/MyDrive/ARV/Codes/train_data.npy')\n",
        "train_label = np.load('/content/drive/MyDrive/ARV/Codes/train_label.npy')\n",
        "\n",
        "eval_data = np.load('/content/drive/MyDrive/ARV/Codes/eval_data.npy')\n",
        "eval_label = np.load('/content/drive/MyDrive/ARV/Codes/eval_label.npy')"
      ],
      "metadata": {
        "id": "RWMOx346zQ_k"
      },
      "execution_count": 5,
      "outputs": []
    },
    {
      "cell_type": "code",
      "source": [
        "T = np.arange(1, 39)"
      ],
      "metadata": {
        "id": "z1m6H7WdWBMc"
      },
      "execution_count": null,
      "outputs": []
    },
    {
      "cell_type": "code",
      "source": [
        "train_label[5]"
      ],
      "metadata": {
        "colab": {
          "base_uri": "https://localhost:8080/"
        },
        "id": "pOOH7QGNWa8l",
        "outputId": "695d51e4-090c-4d0d-a3a8-e677b82e779c"
      },
      "execution_count": null,
      "outputs": [
        {
          "output_type": "execute_result",
          "data": {
            "text/plain": [
              "1"
            ]
          },
          "metadata": {},
          "execution_count": 116
        }
      ]
    },
    {
      "cell_type": "code",
      "source": [
        "plt.plot(T, train_data[5])"
      ],
      "metadata": {
        "id": "e5ejkHp3V9DW"
      },
      "execution_count": null,
      "outputs": []
    },
    {
      "cell_type": "code",
      "source": [
        "#Convert to List\n",
        "List_train_data = []\n",
        "List_train_label = []\n",
        "List_eval_data = []\n",
        "List_eval_label = []\n",
        "\n",
        "for L in train_data :\n",
        "  List_train_data.append(L.tolist())\n",
        "\n",
        "for L in eval_data :\n",
        "  List_eval_data.append(L.tolist())\n",
        "\n",
        "for L in train_label :\n",
        "  List_train_label.append(L.tolist())\n",
        "\n",
        "for L in eval_label :\n",
        "  List_eval_label.append(L.tolist())\n"
      ],
      "metadata": {
        "id": "7JqnVzD62tLp"
      },
      "execution_count": 6,
      "outputs": []
    },
    {
      "cell_type": "code",
      "source": [
        "List_Real_train_data = List_train_data + List_eval_data[0:100]\n",
        "List_Real_train_label = List_train_label + List_eval_label[0:100]\n",
        "\n",
        "List_Real_eval_data = List_eval_data[101:]\n",
        "List_Real_eval_label = List_eval_label[101:]"
      ],
      "metadata": {
        "id": "lHcKazI4hEdc"
      },
      "execution_count": 14,
      "outputs": []
    },
    {
      "cell_type": "code",
      "source": [
        "len(List_Real_train_label)\n",
        "#len(List_train_data[0])"
      ],
      "metadata": {
        "colab": {
          "base_uri": "https://localhost:8080/"
        },
        "id": "DE0X_6z_Vgo5",
        "outputId": "3d49a6ad-4d54-47e6-d63a-002a30263b3c"
      },
      "execution_count": 15,
      "outputs": [
        {
          "output_type": "execute_result",
          "data": {
            "text/plain": [
              "1153"
            ]
          },
          "metadata": {},
          "execution_count": 15
        }
      ]
    },
    {
      "cell_type": "code",
      "source": [
        "List_train_data"
      ],
      "metadata": {
        "id": "e-7uaIdSVdO5"
      },
      "execution_count": null,
      "outputs": []
    },
    {
      "cell_type": "code",
      "source": [
        "List_train_data[0]"
      ],
      "metadata": {
        "id": "0F-5PDfl3xy3"
      },
      "execution_count": null,
      "outputs": []
    },
    {
      "cell_type": "code",
      "source": [
        "len(List_train_label)"
      ],
      "metadata": {
        "colab": {
          "base_uri": "https://localhost:8080/"
        },
        "id": "wSsKw8lt6bP8",
        "outputId": "e3e7b2bf-e85a-4256-c9ef-ea1058077b16"
      },
      "execution_count": null,
      "outputs": [
        {
          "output_type": "execute_result",
          "data": {
            "text/plain": [
              "1053"
            ]
          },
          "metadata": {},
          "execution_count": 70
        }
      ]
    },
    {
      "cell_type": "code",
      "source": [
        "len(List_eval_data[0])"
      ],
      "metadata": {
        "colab": {
          "base_uri": "https://localhost:8080/"
        },
        "id": "CVAxn0DQK3gg",
        "outputId": "d7389b92-04b4-4a4a-b5a3-d9fb3754a1c5"
      },
      "execution_count": null,
      "outputs": [
        {
          "output_type": "execute_result",
          "data": {
            "text/plain": [
              "38"
            ]
          },
          "metadata": {},
          "execution_count": 76
        }
      ]
    },
    {
      "cell_type": "code",
      "source": [
        "len(List_train_data[0])"
      ],
      "metadata": {
        "colab": {
          "base_uri": "https://localhost:8080/"
        },
        "id": "jHonVvzfMJUI",
        "outputId": "5ba6cc68-cada-4918-e4cf-a420607e403f"
      },
      "execution_count": null,
      "outputs": [
        {
          "output_type": "execute_result",
          "data": {
            "text/plain": [
              "38"
            ]
          },
          "metadata": {},
          "execution_count": 77
        }
      ]
    },
    {
      "cell_type": "code",
      "source": [
        "for i in List_train_data :\n",
        "  if len(i) != 38 :\n",
        "    print(False)\n",
        "\n",
        "for i in List_eval_data :\n",
        "  if len(i) != 38 :\n",
        "    print(False)"
      ],
      "metadata": {
        "id": "PLkGpgdgMvUf"
      },
      "execution_count": null,
      "outputs": []
    },
    {
      "cell_type": "code",
      "source": [
        "from catboost import CatBoostClassifier\n",
        "\n",
        "\n",
        "model = CatBoostClassifier(iterations = 2500,\n",
        "                          learning_rate = 0.03,\n",
        "                          depth = 13,\n",
        "                          task_type=\"GPU\",\n",
        "                          devices='0:1')\n",
        "model.fit(List_Real_train_data,\n",
        "          List_Real_train_label,\n",
        "          verbose=False)"
      ],
      "metadata": {
        "colab": {
          "base_uri": "https://localhost:8080/"
        },
        "id": "RLMzO95B16Km",
        "outputId": "fe6ef04d-3445-4b20-b23f-141d867dbd0c"
      },
      "execution_count": 20,
      "outputs": [
        {
          "output_type": "execute_result",
          "data": {
            "text/plain": [
              "<catboost.core.CatBoostClassifier at 0x7f88c8424750>"
            ]
          },
          "metadata": {},
          "execution_count": 20
        }
      ]
    },
    {
      "cell_type": "code",
      "source": [
        "preds = model.predict(List_Real_eval_data)"
      ],
      "metadata": {
        "id": "vPviLaFz2DKM"
      },
      "execution_count": 21,
      "outputs": []
    },
    {
      "cell_type": "code",
      "source": [
        "index = -1\n",
        "count_all = 0\n",
        "\n",
        "count1 = 0\n",
        "count_class_1 = 0\n",
        "\n",
        "count2 = 0\n",
        "count_class_2 = 0\n",
        "\n",
        "count3 = 0\n",
        "count_class_3 = 0\n",
        "\n",
        "count4 = 0\n",
        "count_class_4 = 0\n",
        "\n",
        "for idx in preds :\n",
        "  index += 1\n",
        "  if idx[0] == List_Real_eval_label[index] :\n",
        "    count_all += 1\n",
        "    if idx[0] == 1 :\n",
        "      count1 += 1\n",
        "    if idx[0] == 2 :\n",
        "      count2 += 1\n",
        "    if idx[0] == 3 :\n",
        "      count3 += 1\n",
        "    if idx[0] == 4 :\n",
        "      count4 += 1\n",
        "\n",
        "for idx in List_Real_eval_label :\n",
        "  if idx == 1 : count_class_1 += 1\n",
        "  if idx == 2 : count_class_2 += 1\n",
        "  if idx == 3 : count_class_3 += 1\n",
        "  if idx == 4 : count_class_4 += 1\n",
        "\n",
        "acc_all = count_all/len(List_eval_label)\n",
        "print(\"accuracy_all :\", acc_all)\n",
        "\n",
        "acc1 = count1/count_class_1 \n",
        "print(\"accuracy1:\", acc1)\n",
        "\n",
        "acc2 = count2/count_class_2\n",
        "print(\"accuracy2 :\", acc2)\n",
        "\n",
        "acc3 = count3/count_class_3\n",
        "print(\"accuracy3 :\", acc3)\n",
        "\n",
        "acc4 = count4/count_class_4\n",
        "print(\"accuracy4 :\", acc4)"
      ],
      "metadata": {
        "colab": {
          "base_uri": "https://localhost:8080/"
        },
        "id": "FjLxCNj6TWfF",
        "outputId": "df1b3301-a312-455a-81c2-b6ac260a91aa"
      },
      "execution_count": 22,
      "outputs": [
        {
          "output_type": "stream",
          "name": "stdout",
          "text": [
            "accuracy_all : 0.42803030303030304\n",
            "accuracy1: 0.7971014492753623\n",
            "accuracy2 : 0.5\n",
            "accuracy3 : 0.7192982456140351\n",
            "accuracy4 : 0.2857142857142857\n"
          ]
        }
      ]
    },
    {
      "cell_type": "code",
      "source": [
        "test_data = np.load('/content/drive/MyDrive/ARV/Codes/test_data.npy')"
      ],
      "metadata": {
        "id": "TqJploJQoqtc"
      },
      "execution_count": 23,
      "outputs": []
    },
    {
      "cell_type": "code",
      "source": [
        "#Convert to List\n",
        "List_test_data = []\n",
        "\n",
        "for L in test_data :\n",
        "  List_test_data.append(L.tolist())"
      ],
      "metadata": {
        "id": "zZZ4-JXLo2Ou"
      },
      "execution_count": 26,
      "outputs": []
    },
    {
      "cell_type": "code",
      "source": [
        "Real_preds = model.predict(List_test_data)"
      ],
      "metadata": {
        "id": "oVVv0tnopEal"
      },
      "execution_count": 27,
      "outputs": []
    },
    {
      "cell_type": "code",
      "source": [
        "Prediction = []\n",
        "for L in Real_preds :\n",
        "  Prediction.append(L[0].tolist())\n",
        "Prediction"
      ],
      "metadata": {
        "id": "S8T4JaNwthsp"
      },
      "execution_count": null,
      "outputs": []
    },
    {
      "cell_type": "code",
      "source": [
        "Prediction"
      ],
      "metadata": {
        "id": "JG3l588CuH2C"
      },
      "execution_count": null,
      "outputs": []
    },
    {
      "cell_type": "code",
      "source": [
        "pd.DataFrame(data = Prediction)"
      ],
      "metadata": {
        "id": "8wTovY4rtKSU"
      },
      "execution_count": null,
      "outputs": []
    },
    {
      "cell_type": "code",
      "source": [
        "# d = {'Id': Id, 'Predicted': Predicted }\n",
        "# df_submission = pd.DataFrame(data=d)\n",
        "# df_submission.head()\n",
        "import pandas as pd\n",
        "\n",
        "#pd.DataFrame(data = Prediction)\n",
        "\n",
        "d = {'crop_type': Prediction}\n",
        "\n",
        "df_submission = pd.DataFrame(data=d)\n",
        "df_submission.head()"
      ],
      "metadata": {
        "id": "zV37JAFdpPxH"
      },
      "execution_count": null,
      "outputs": []
    },
    {
      "cell_type": "code",
      "source": [
        "df_submission.shape"
      ],
      "metadata": {
        "colab": {
          "base_uri": "https://localhost:8080/"
        },
        "id": "bF2jZ-qhsrgG",
        "outputId": "90fbeedb-5ddd-412c-843d-563f556ef7d0"
      },
      "execution_count": 40,
      "outputs": [
        {
          "output_type": "execute_result",
          "data": {
            "text/plain": [
              "(565, 1)"
            ]
          },
          "metadata": {},
          "execution_count": 40
        }
      ]
    },
    {
      "cell_type": "code",
      "source": [
        "df_submission.to_csv(\"/content/drive/MyDrive/ARV/Codes/\"+\"submission_The_scamper1.csv\", index = False)"
      ],
      "metadata": {
        "id": "5-4Kw040sr8l"
      },
      "execution_count": 41,
      "outputs": []
    }
  ]
}