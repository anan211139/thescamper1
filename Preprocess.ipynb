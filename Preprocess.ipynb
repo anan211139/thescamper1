{
 "cells": [
  {
   "cell_type": "code",
   "execution_count": 41,
   "metadata": {},
   "outputs": [],
   "source": [
    "import glob\n",
    "import os\n",
    "import numpy as np\n",
    "import rasterio\n",
    "\n",
    "def preprocess(band):\n",
    "  # band = src.read()\n",
    "  index = band > -50000\n",
    "  #band = band[index]\n",
    "  #max = band.max()\n",
    "  #min = band.min()\n",
    "  #mean = np.average(band)\n",
    "  median = np.median(np.median(band))\n",
    "  #EVI = np.stack((min, max, mean))\n",
    "  return median\n",
    "\n",
    "def max_preprocess(band):\n",
    "  #band = src.read()\n",
    "  index = band > -50000\n",
    "  #band = band[index]\n",
    "  maxx = band.max()\n",
    "  #minn = band.min()\n",
    "  #mean = np.average(band)\n",
    "  #EVI = np.stack((min, max, mean))\n",
    "  return maxx\n",
    "\n"
   ]
  },
  {
   "cell_type": "code",
   "execution_count": 38,
   "metadata": {},
   "outputs": [
    {
     "data": {
      "text/plain": [
       "0.031199176"
      ]
     },
     "execution_count": 38,
     "metadata": {},
     "output_type": "execute_result"
    }
   ],
   "source": [
    "import statistics\n",
    "import numpy as np\n",
    "\n",
    "np.median(rasterio.open('C:/ARV/Data2/1/20200107/0.tif').read())"
   ]
  },
  {
   "cell_type": "code",
   "execution_count": 39,
   "metadata": {},
   "outputs": [
    {
     "data": {
      "text/plain": [
       "0.044223413"
      ]
     },
     "execution_count": 39,
     "metadata": {},
     "output_type": "execute_result"
    }
   ],
   "source": [
    "max_preprocess(rasterio.open('C:/ARV/Data2/1/20200107/0.tif').read())"
   ]
  },
  {
   "cell_type": "code",
   "execution_count": 42,
   "metadata": {},
   "outputs": [
    {
     "name": "stdout",
     "output_type": "stream",
     "text": [
      "510 240 433 134\n"
     ]
    }
   ],
   "source": [
    "filename1 = glob.glob('C:/ARV/Data2/1/20200107/*.tif')\n",
    "filename1 = sorted([os.path.basename(a) for a in filename1])\n",
    "\n",
    "filename2 = glob.glob('C:/ARV/Data2/2/20200107/*.tif')\n",
    "filename2 = sorted([os.path.basename(a) for a in filename2])\n",
    "\n",
    "filename3 = glob.glob('C:/ARV/Data2/3/20200107/*.tif')\n",
    "filename3 = sorted([os.path.basename(a) for a in filename3])\n",
    "\n",
    "filename4 = glob.glob('C:/ARV/Data2/4/20200107/*.tif')\n",
    "filename4 = sorted([os.path.basename(a) for a in filename4])\n",
    "\n",
    "print(len(filename1), len(filename2), len(filename3), len(filename4))"
   ]
  },
  {
   "cell_type": "code",
   "execution_count": null,
   "metadata": {},
   "outputs": [],
   "source": [
    "all_preprocess(\"C:/ARV/Data2/1/20200107/0.tif\")"
   ]
  },
  {
   "cell_type": "code",
   "execution_count": 22,
   "metadata": {},
   "outputs": [
    {
     "name": "stdout",
     "output_type": "stream",
     "text": [
      "0.tif\n",
      "0\n"
     ]
    },
    {
     "data": {
      "text/plain": [
       "510"
      ]
     },
     "execution_count": 22,
     "metadata": {},
     "output_type": "execute_result"
    }
   ],
   "source": [
    "print(filename1[0])\n",
    "NN = filename1[0].split(\".\")[0]\n",
    "print(NN)\n",
    "len(filename1)"
   ]
  },
  {
   "cell_type": "code",
   "execution_count": 13,
   "metadata": {},
   "outputs": [
    {
     "name": "stdout",
     "output_type": "stream",
     "text": [
      "[[0, 1, 2], [7, 8, 9], [6, 7, 8], [3, 4, 5], [10, 11, 12]]\n"
     ]
    }
   ],
   "source": [
    "import random\n",
    "random.seed(101)\n",
    "\n",
    "L = [[0,1,2], [3,4,5], [6,7,8], [7,8,9], [10,11,12]]\n",
    "random.shuffle(L)\n",
    "print(L)"
   ]
  },
  {
   "cell_type": "code",
   "execution_count": 12,
   "metadata": {},
   "outputs": [
    {
     "data": {
      "text/plain": [
       "[[0, 1, 2, 3], [4, 5, 6, 7], [8, 12, 13, 15], [8, 9, 10, 11]]"
      ]
     },
     "execution_count": 12,
     "metadata": {},
     "output_type": "execute_result"
    }
   ],
   "source": [
    "T = [[0,1,2,3], [4,5,6,7]]\n",
    "W = [[8,12,13,15], [8,9,10,11]]\n",
    "T + W"
   ]
  },
  {
   "cell_type": "code",
   "execution_count": 43,
   "metadata": {},
   "outputs": [
    {
     "name": "stdout",
     "output_type": "stream",
     "text": [
      "['20200107', '20200112', '20200117', '20200122', '20200201', '20200206', '20200216', '20200226', '20200302', '20200317', '20200322', '20200327', '20200401', '20200406', '20200411', '20200421', '20200426', '20200506', '20200516', '20201207', '20201212', '20201217', '20201227', '20210101', '20210111', '20210126', '20210215', '20210225', '20210307', '20210421', '20210531', '20210620', '20211122', '20211127', '20211212', '20211217', '20211222', '20211227']\n"
     ]
    },
    {
     "data": {
      "text/plain": [
       "38"
      ]
     },
     "execution_count": 43,
     "metadata": {},
     "output_type": "execute_result"
    }
   ],
   "source": [
    "Date = sorted(os.listdir('C:/ARV/Data2/1'))\n",
    "print(Date)\n",
    "len(Date)"
   ]
  },
  {
   "cell_type": "code",
   "execution_count": 24,
   "metadata": {},
   "outputs": [],
   "source": [
    "path1 = 'C:/ARV/Data2/1/'\n",
    "for name in filename1 :\n",
    "  BOX = [] \n",
    "  for date in Date :\n",
    "    isExist = os.path.exists(path1 + date + '/' + name)\n",
    "    if isExist == False :\n",
    "      print(path1 + date + '/' + name)"
   ]
  },
  {
   "cell_type": "code",
   "execution_count": null,
   "metadata": {},
   "outputs": [],
   "source": [
    "#Preprocess\n",
    "from itertools import count\n",
    "import rasterio\n",
    "bound = []\n",
    "rawpath = 'C:/ARV/Data2/'\n",
    "\n",
    "path1 = 'C:/ARV/Data2/1/'\n",
    "path2 = 'C:/ARV/Data2/2/'\n",
    "path3 = 'C:/ARV/Data2/3/'\n",
    "path4 = 'C:/ARV/Data2/4/'\n",
    "\n",
    "\n",
    "ALL_LIST1 = []\n",
    "ALL_LIST2 = []\n",
    "ALL_LIST3 = []\n",
    "ALL_LIST4 = []\n",
    "\n",
    "\n",
    "#Run through Class 1\n",
    "count1 = 0 \n",
    "for name in filename1 :\n",
    "  BOX = [] \n",
    "  for date in Date :\n",
    "    with rasterio.open(path1 + date + '/' + name) as grid:\n",
    "      BOX.append(preprocess(grid.read()))\n",
    "  count1 += 1\n",
    "  if count1 % 20 == 0 : \n",
    "    print(count1)\n",
    "  BOX.append(1)\n",
    "  ALL_LIST1.append(BOX)\n",
    "  BOX = []\n",
    "\n",
    "#Run through Class 2\n",
    "count2 = 0 \n",
    "for name in filename2 :\n",
    "  BOX = [] \n",
    "  for date in Date :\n",
    "    with rasterio.open(path2 + date + '/' + name) as grid:\n",
    "      BOX.append(preprocess(grid.read()))\n",
    "  count2 += 1\n",
    "  if count2 % 20 == 0 : \n",
    "    print(count2)\n",
    "  BOX.append(2)\n",
    "  ALL_LIST2.append(BOX)\n",
    "  BOX = []\n",
    "\n",
    "#Run through Class 3\n",
    "count3 = 0 \n",
    "for name in filename3 :\n",
    "  BOX = [] \n",
    "  for date in Date :\n",
    "    with rasterio.open(path3 + date + '/' + name) as grid:\n",
    "      BOX.append(preprocess(grid.read()))\n",
    "  count3 += 1\n",
    "  if count3 % 20 == 0 : \n",
    "    print(count3)\n",
    "  BOX.append(3)\n",
    "  ALL_LIST3.append(BOX)\n",
    "  BOX = []\n",
    "\n",
    "#Run through Class 4\n",
    "count4 = 0 \n",
    "for name in filename4 :\n",
    "  BOX = [] \n",
    "  for date in Date :\n",
    "    with rasterio.open(path4 + date + '/' + name) as grid:\n",
    "      BOX.append(preprocess(grid.read()))\n",
    "  count4 += 1\n",
    "  if count4 % 20 == 0 : \n",
    "    print(count4)\n",
    "  BOX.append(4)\n",
    "  ALL_LIST4.append(BOX)\n",
    "  BOX = []"
   ]
  },
  {
   "cell_type": "code",
   "execution_count": null,
   "metadata": {},
   "outputs": [],
   "source": [
    "ALL_LIST = ALL_LIST1 + ALL_LIST2 + ALL_LIST3 + ALL_LIST4\n",
    "ALL_LIST\n"
   ]
  },
  {
   "cell_type": "code",
   "execution_count": null,
   "metadata": {},
   "outputs": [],
   "source": [
    "import random\n",
    "random.seed(101)\n",
    "\n",
    "random.shuffle(ALL_LIST)\n",
    "print(ALL_LIST)"
   ]
  },
  {
   "cell_type": "code",
   "execution_count": 30,
   "metadata": {},
   "outputs": [
    {
     "data": {
      "text/plain": [
       "1317"
      ]
     },
     "execution_count": 30,
     "metadata": {},
     "output_type": "execute_result"
    }
   ],
   "source": [
    "len(ALL_LIST)"
   ]
  },
  {
   "cell_type": "code",
   "execution_count": 31,
   "metadata": {},
   "outputs": [],
   "source": [
    "np.save('C:/ARV/Data2/', np.array(ALL_LIST))\n",
    "#np.save('/content/labels_all_sortday.npy', np.array(labels_all))"
   ]
  },
  {
   "cell_type": "code",
   "execution_count": 38,
   "metadata": {},
   "outputs": [
    {
     "data": {
      "text/plain": [
       "38"
      ]
     },
     "execution_count": 38,
     "metadata": {},
     "output_type": "execute_result"
    }
   ],
   "source": [
    "len(ALL_LIST[0][0:38])"
   ]
  },
  {
   "cell_type": "code",
   "execution_count": 39,
   "metadata": {},
   "outputs": [
    {
     "data": {
      "text/plain": [
       "1053.6000000000001"
      ]
     },
     "execution_count": 39,
     "metadata": {},
     "output_type": "execute_result"
    }
   ],
   "source": [
    "1317*0.8"
   ]
  },
  {
   "cell_type": "code",
   "execution_count": 41,
   "metadata": {},
   "outputs": [],
   "source": [
    "train_data = []\n",
    "train_label = []\n",
    "eval_data = []\n",
    "eval_label = []\n",
    "\n",
    "for idx in range(0,1053) :\n",
    "    train_data.append(ALL_LIST[idx][0:38])\n",
    "    train_label.append(ALL_LIST[idx][-1])\n",
    "    \n",
    "for idx in range(1053,1317) :\n",
    "    eval_data.append(ALL_LIST[idx][0:38])\n",
    "    eval_label.append(ALL_LIST[idx][-1])"
   ]
  },
  {
   "cell_type": "code",
   "execution_count": 45,
   "metadata": {},
   "outputs": [],
   "source": [
    "np.save('C:/ARV/Data2/train_data.npy', np.array(train_data))\n",
    "np.save('C:/ARV/Data2/train_label.npy', np.array(train_label))\n",
    "np.save('C:/ARV/Data2/eval_data.npy', np.array(eval_data))\n",
    "np.save('C:/ARV/Data2/eval_label.npy', np.array(eval_label))\n"
   ]
  },
  {
   "cell_type": "code",
   "execution_count": 44,
   "metadata": {},
   "outputs": [
    {
     "data": {
      "text/plain": [
       "2"
      ]
     },
     "execution_count": 44,
     "metadata": {},
     "output_type": "execute_result"
    }
   ],
   "source": [
    "train_data[0]\n",
    "train_label[0]"
   ]
  },
  {
   "cell_type": "code",
   "execution_count": 4,
   "metadata": {},
   "outputs": [],
   "source": [
    "name_test = []\n",
    "filename_test = glob.glob('C:/ARV/Data2/Real_test/20200107/*.tif')\n",
    "filename_test = sorted([os.path.basename(a) for a in filename_test])"
   ]
  },
  {
   "cell_type": "code",
   "execution_count": 11,
   "metadata": {},
   "outputs": [
    {
     "name": "stdout",
     "output_type": "stream",
     "text": [
      "20\n",
      "40\n",
      "60\n",
      "80\n",
      "100\n",
      "120\n",
      "140\n",
      "160\n",
      "180\n",
      "200\n",
      "220\n",
      "240\n",
      "260\n",
      "280\n",
      "300\n",
      "320\n",
      "340\n",
      "360\n",
      "380\n",
      "400\n",
      "420\n",
      "440\n",
      "460\n",
      "480\n",
      "500\n",
      "520\n",
      "540\n",
      "560\n"
     ]
    }
   ],
   "source": [
    "#### TEST_PREPROCESS\n",
    "from itertools import count\n",
    "import rasterio\n",
    "bound = []\n",
    "\n",
    "path_REAL_TEST = 'C:/ARV/Data2/Real_test/'\n",
    "\n",
    "\n",
    "ALL_LIST_TEST = []\n",
    "\n",
    "\n",
    "#Run through ALLTESTS\n",
    "count_test = 0 \n",
    "for name in filename_test :\n",
    "  BOX = [] \n",
    "  for date in Date :\n",
    "    with rasterio.open(path_REAL_TEST + date + '/' + name) as grid:\n",
    "      BOX.append(preprocess(grid.read()))\n",
    "  count_test += 1\n",
    "  if count_test % 20 == 0 : \n",
    "    print(count_test)\n",
    "  ALL_LIST_TEST.append(BOX)\n",
    "  BOX = []"
   ]
  },
  {
   "cell_type": "code",
   "execution_count": 14,
   "metadata": {},
   "outputs": [
    {
     "data": {
      "text/plain": [
       "38"
      ]
     },
     "execution_count": 14,
     "metadata": {},
     "output_type": "execute_result"
    }
   ],
   "source": [
    "len(ALL_LIST_TEST[0])"
   ]
  },
  {
   "cell_type": "code",
   "execution_count": 16,
   "metadata": {},
   "outputs": [],
   "source": [
    "np.save('C:/ARV/Data2/test_data.npy', np.array(ALL_LIST_TEST))"
   ]
  },
  {
   "cell_type": "code",
   "execution_count": null,
   "metadata": {},
   "outputs": [],
   "source": []
  }
 ],
 "metadata": {
  "kernelspec": {
   "display_name": "Python 3.8.10 ('base')",
   "language": "python",
   "name": "python3"
  },
  "language_info": {
   "codemirror_mode": {
    "name": "ipython",
    "version": 3
   },
   "file_extension": ".py",
   "mimetype": "text/x-python",
   "name": "python",
   "nbconvert_exporter": "python",
   "pygments_lexer": "ipython3",
   "version": "3.8.10"
  },
  "orig_nbformat": 4,
  "vscode": {
   "interpreter": {
    "hash": "dc07d24e2f18896857f0b2a651fe84ba40ce7b297e58d8804a308c8039f752a6"
   }
  }
 },
 "nbformat": 4,
 "nbformat_minor": 2
}
